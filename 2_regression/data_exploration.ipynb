{
 "metadata": {
  "language_info": {
   "codemirror_mode": {
    "name": "ipython",
    "version": 3
   },
   "file_extension": ".py",
   "mimetype": "text/x-python",
   "name": "python",
   "nbconvert_exporter": "python",
   "pygments_lexer": "ipython3",
   "version": "3.6.13-final"
  },
  "orig_nbformat": 2,
  "kernelspec": {
   "name": "python3",
   "display_name": "Python 3.6.13 64-bit ('.venv')",
   "metadata": {
    "interpreter": {
     "hash": "b5e2aa905a2cedd1255d58c51f964388477975f6eb502a8c1d8aebb71dda9a2a"
    }
   }
  }
 },
 "nbformat": 4,
 "nbformat_minor": 2,
 "cells": [
  {
   "source": [
    "# Exploration of NASA Turbofan degredation data set"
   ],
   "cell_type": "markdown",
   "metadata": {}
  },
  {
   "source": [
    "We import some standard libraries"
   ],
   "cell_type": "markdown",
   "metadata": {}
  },
  {
   "cell_type": "code",
   "execution_count": null,
   "metadata": {},
   "outputs": [],
   "source": [
    "import io\n",
    "import os\n",
    "import urllib\n",
    "import zipfile\n",
    "import json\n",
    "\n",
    "import matplotlib\n",
    "import numpy as np\n",
    "import matplotlib.pyplot as plt\n",
    "import pandas as pd\n"
   ]
  },
  {
   "source": [
    "Download and unzip the data set"
   ],
   "cell_type": "markdown",
   "metadata": {}
  },
  {
   "cell_type": "code",
   "execution_count": null,
   "metadata": {},
   "outputs": [],
   "source": [
    "data_folder = 'data'\n",
    "if not os.path.exists(data_folder):\n",
    "    os.makedirs(data_folder)\n",
    "urllib.request.urlretrieve('https://ti.arc.nasa.gov/m/project/prognostic-repository/CMAPSSData.zip', os.path.join(data_folder, 'CMAPSSData.zip'))\n",
    "\n",
    "with zipfile.ZipFile(os.path.join(data_folder, 'CMAPSSData.zip'), \"r\") as zip_ref:\n",
    "    zip_ref.extractall(data_folder)"
   ]
  },
  {
   "source": [
    "We'll focus on the first test data file. \n"
   ],
   "cell_type": "markdown",
   "metadata": {}
  },
  {
   "cell_type": "code",
   "execution_count": null,
   "metadata": {},
   "outputs": [],
   "source": [
    "raw_data = pd.read_csv('data/train_FD001.txt', delimiter=' ', header=None)\n",
    "raw_data.head()"
   ]
  },
  {
   "source": [
    "We'll drop the last 2 columns as they contain NaNs"
   ],
   "cell_type": "markdown",
   "metadata": {}
  },
  {
   "cell_type": "code",
   "execution_count": null,
   "metadata": {},
   "outputs": [],
   "source": [
    "raw_data = raw_data[[f for f in range(0,26)]]\n",
    "raw_data.head()"
   ]
  },
  {
   "source": [
    "We'll add the column headers mentioned in the included readme.txt"
   ],
   "cell_type": "markdown",
   "metadata": {}
  },
  {
   "cell_type": "code",
   "execution_count": null,
   "metadata": {},
   "outputs": [],
   "source": [
    "raw_data.columns = ['id', 'cycle', 'setting1', 'setting2', 'setting3', 's1', 's2', 's3','s4', 's5', 's6', 's7', 's8', 's9', 's10', 's11', 's12', 's13', 's14','s15', 's16', 's17', 's18', 's19', 's20', 's21']\n",
    "raw_data"
   ]
  },
  {
   "source": [
    "Let's take a closer look at cycle 1"
   ],
   "cell_type": "markdown",
   "metadata": {}
  },
  {
   "cell_type": "code",
   "execution_count": null,
   "metadata": {},
   "outputs": [],
   "source": [
    "raw_data[raw_data['id'] == 1]"
   ]
  },
  {
   "source": [
    "We'll next compute the Remaining Useful Life (RUL) variable\n"
   ],
   "cell_type": "markdown",
   "metadata": {}
  },
  {
   "cell_type": "code",
   "execution_count": null,
   "metadata": {},
   "outputs": [],
   "source": [
    "max_cycles = raw_data.groupby(['id'], sort=False)['cycle'].max().reset_index().rename(columns={'cycle':'max_cycle'})\n",
    "max_cycles.head()"
   ]
  },
  {
   "cell_type": "code",
   "execution_count": null,
   "metadata": {},
   "outputs": [],
   "source": [
    "FD001_df = pd.merge(raw_data, max_cycles, how='inner', on='id')\n",
    "FD001_df['rul'] = FD001_df['max_cycle'] - FD001_df['cycle']\n",
    "FD001_df"
   ]
  },
  {
   "source": [
    "Lets plot the cyles"
   ],
   "cell_type": "markdown",
   "metadata": {}
  },
  {
   "cell_type": "code",
   "execution_count": null,
   "metadata": {},
   "outputs": [],
   "source": [
    "engine = []\n",
    "for i,r in FD001_df.iterrows():\n",
    "    rul = r['rul']\n",
    "    engine.append(rul)\n",
    "    if rul == 0:\n",
    "        plt.plot(engine)\n",
    "        engine = []\n",
    "\n",
    "plt.grid()"
   ]
  }
 ]
}