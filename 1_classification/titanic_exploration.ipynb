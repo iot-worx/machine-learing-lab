{
 "cells": [
  {
   "cell_type": "markdown",
   "id": "numeric-bubble",
   "metadata": {},
   "source": [
    "# Exploring the Titanic dataset"
   ]
  },
  {
   "cell_type": "code",
   "execution_count": null,
   "id": "stone-corps",
   "metadata": {},
   "outputs": [],
   "source": [
    "import sklearn\n",
    "\n",
    "import pandas as pd\n",
    "import numpy as np\n",
    "import matplotlib.pyplot as plt\n",
    "import seaborn as sns"
   ]
  },
  {
   "cell_type": "code",
   "execution_count": null,
   "id": "eastern-progress",
   "metadata": {},
   "outputs": [],
   "source": [
    "titanic_df = pd.read_csv('datasets/titanic_train.csv')\n",
    "titanic_df.head(10)"
   ]
  },
  {
   "cell_type": "markdown",
   "id": "searching-thirty",
   "metadata": {},
   "source": [
    "### Dataset description\n",
    "\n",
    "1.  Survival - Survival (0 = No; 1 = Yes). Not included in test.csv file.\n",
    "2.  Pclass - Passenger Class (1 = 1st; 2 = 2nd; 3 = 3rd)\n",
    "3.  Name - Name\n",
    "4.  Sex - Sex\n",
    "5.  Age - Age\n",
    "6.  Sibsp - Number of Siblings/Spouses Aboard\n",
    "7.  Parch - Number of Parents/Children Aboard\n",
    "8.  Ticket - Ticket Number\n",
    "9.  Fare - Passenger Fare\n",
    "10. Cabin - Cabin\n",
    "11. Embarked - Port of Embarkation (C = Cherbourg; Q = Queenstown; S = Southampton)"
   ]
  },
  {
   "cell_type": "code",
   "execution_count": null,
   "id": "natural-trademark",
   "metadata": {},
   "outputs": [],
   "source": [
    "titanic_df.shape"
   ]
  },
  {
   "cell_type": "markdown",
   "id": "laden-creativity",
   "metadata": {},
   "source": [
    "We have 891 records and 12 columns\n",
    "\n",
    "Some of these columns contain no useful information and so we will drop these."
   ]
  },
  {
   "cell_type": "code",
   "execution_count": null,
   "id": "graduate-yorkshire",
   "metadata": {},
   "outputs": [],
   "source": [
    "titanic_df.drop(['PassengerId', 'Name', 'Ticket', 'Cabin'], 'columns', inplace=True)\n",
    "titanic_df.head()"
   ]
  },
  {
   "cell_type": "markdown",
   "id": "sized-honolulu",
   "metadata": {},
   "source": [
    "When working wth large datasets in is quite common to have records with misssing data, we will check for any records that have missing fields."
   ]
  },
  {
   "cell_type": "code",
   "execution_count": null,
   "id": "german-riverside",
   "metadata": {},
   "outputs": [],
   "source": [
    "titanic_df[titanic_df.isnull().any(axis=1)].count()"
   ]
  },
  {
   "cell_type": "markdown",
   "id": "preceding-attention",
   "metadata": {},
   "source": [
    "As we can see there are quite a few records with missing data. It is possible to use different techniques to predict what the missing data could be.\n",
    "For this example we will just omit any records with missing data."
   ]
  },
  {
   "cell_type": "code",
   "execution_count": null,
   "id": "russian-abuse",
   "metadata": {},
   "outputs": [],
   "source": [
    "titanic_df = titanic_df.dropna()"
   ]
  },
  {
   "cell_type": "code",
   "execution_count": null,
   "id": "bridal-wrist",
   "metadata": {},
   "outputs": [],
   "source": [
    "titanic_df.shape"
   ]
  },
  {
   "cell_type": "code",
   "execution_count": null,
   "id": "mediterranean-concord",
   "metadata": {},
   "outputs": [],
   "source": [
    "titanic_df[titanic_df.isnull().any(axis=1)].count()"
   ]
  },
  {
   "cell_type": "markdown",
   "id": "olive-respondent",
   "metadata": {},
   "source": [
    "We can use the `describe` method to get some statistical information about our dataset."
   ]
  },
  {
   "cell_type": "code",
   "execution_count": null,
   "id": "settled-caution",
   "metadata": {},
   "outputs": [],
   "source": [
    "titanic_df.describe()"
   ]
  },
  {
   "cell_type": "markdown",
   "id": "american-david",
   "metadata": {},
   "source": [
    "Notice the mean for the 'Survived' column is 0.404494, this means only about 40% of the passengers in our data survived. (This is higher than the 31% of the total passenger survival rate)"
   ]
  },
  {
   "cell_type": "code",
   "execution_count": null,
   "id": "virgin-pacific",
   "metadata": {},
   "outputs": [],
   "source": [
    "fig, ax = plt.subplots(figsize=(12, 8))\n",
    "\n",
    "plt.scatter(titanic_df['Age'], titanic_df['Survived'])\n",
    "\n",
    "plt.xlabel('Age')\n",
    "plt.ylabel('Survived')"
   ]
  },
  {
   "cell_type": "markdown",
   "id": "related-geology",
   "metadata": {},
   "source": [
    "This shows us that there is very little to no correlation between the passenger's age and if the passnger survived"
   ]
  },
  {
   "cell_type": "code",
   "execution_count": null,
   "id": "planned-wonder",
   "metadata": {},
   "outputs": [],
   "source": [
    "fig, ax = plt.subplots(figsize=(12, 8))\n",
    "\n",
    "plt.scatter(titanic_df['Fare'], titanic_df['Survived'])\n",
    "\n",
    "plt.xlabel('Fare')\n",
    "plt.ylabel('Survived')"
   ]
  },
  {
   "cell_type": "markdown",
   "id": "martial-moisture",
   "metadata": {},
   "source": [
    "We can see that there area few outliers of passengers that survived that paid much higher fares.\n",
    "\n",
    "As we are looking at this in terms of binary classification a scatterplot is of very little use.\n",
    "Let's try looking at the data in a crosstab table."
   ]
  },
  {
   "cell_type": "code",
   "execution_count": null,
   "id": "literary-composite",
   "metadata": {},
   "outputs": [],
   "source": [
    "pd.crosstab(titanic_df['Sex'], titanic_df['Survived'])"
   ]
  },
  {
   "cell_type": "markdown",
   "id": "political-bandwidth",
   "metadata": {},
   "source": [
    "We can see from this that there was a much higher survival rate for women than men"
   ]
  },
  {
   "cell_type": "code",
   "execution_count": null,
   "id": "ranking-withdrawal",
   "metadata": {},
   "outputs": [],
   "source": [
    "pd.crosstab(titanic_df['Pclass'], titanic_df['Survived'])"
   ]
  },
  {
   "cell_type": "markdown",
   "id": "connected-spokesman",
   "metadata": {},
   "source": [
    "We can use one of pandas built in functions to view correlations between columns"
   ]
  },
  {
   "cell_type": "code",
   "execution_count": null,
   "id": "raising-modem",
   "metadata": {},
   "outputs": [],
   "source": [
    "titanic_data_corr = titanic_df.corr()\n",
    "\n",
    "titanic_data_corr"
   ]
  },
  {
   "cell_type": "markdown",
   "id": "suburban-budget",
   "metadata": {},
   "source": [
    "We can see from this that class is negatively correlated with survival, the lower the class the lower the chance of survival.\n",
    "\n",
    "Fare is positively correlated with survival, the higher the fare the higher the chance of survival.\n",
    "\n",
    "We can use the Seaborn library to show this correlation matrix as a heatmap."
   ]
  },
  {
   "cell_type": "code",
   "execution_count": null,
   "id": "plain-louis",
   "metadata": {},
   "outputs": [],
   "source": [
    "fig, ax = plt.subplots(figsize=(12,10))\n",
    "\n",
    "sns.heatmap(titanic_data_corr, annot=True)"
   ]
  },
  {
   "cell_type": "markdown",
   "id": "copyrighted-charm",
   "metadata": {},
   "source": [
    "## Processing the data\n",
    "\n",
    "\n",
    "Our data set contains categorical or discrete values, we need to convert these values to numerical values for machine learning models.\n",
    "\n",
    "Scikit-learn provides us a very useful library called 'Preprocessing' to help us to process our data.\n",
    "\n",
    "First we'll convert categorical values to ordered integer values. We can use the `LabelEncoder()` function for this. Normally the label encoder is used for ordinal data, that is where the order matters, e.g., 'small', 'medium' & 'large'. \n",
    "\n",
    "However we can still use this when we have data of a binary nature, in this case the 'Sex' column only contains two values, i.e. Female and Male.\n",
    "\n",
    "In our case this will give us a value of '0' for female and a value of '1' for male.\n"
   ]
  },
  {
   "cell_type": "code",
   "execution_count": null,
   "id": "blessed-douglas",
   "metadata": {},
   "outputs": [],
   "source": [
    "from sklearn import preprocessing\n",
    "\n",
    "label_encoding = preprocessing.LabelEncoder()\n",
    "titanic_df['Sex'] = label_encoding.fit_transform(titanic_df['Sex'].astype(str))\n",
    "\n",
    "titanic_df.head()"
   ]
  },
  {
   "cell_type": "code",
   "execution_count": null,
   "id": "associate-developer",
   "metadata": {},
   "outputs": [],
   "source": [
    "label_encoding.classes_"
   ]
  },
  {
   "cell_type": "markdown",
   "id": "champion-issue",
   "metadata": {},
   "source": [
    "Categories with no intrinsic ordering can be converted to numeric values using one-hot encoding."
   ]
  },
  {
   "cell_type": "code",
   "execution_count": null,
   "id": "enormous-sleeping",
   "metadata": {},
   "outputs": [],
   "source": [
    "titanic_df = pd.get_dummies(titanic_df, columns=['Embarked'])\n",
    "\n",
    "titanic_df.head()"
   ]
  },
  {
   "cell_type": "markdown",
   "id": "breathing-pressing",
   "metadata": {},
   "source": [
    "Each value in the 'Embarked' column now has it's own column. This is known as it's one-hot representation.\n",
    "\n",
    "We now have our data in a form that is ready to train an ML model, we are going to shuffle the data set and save it as a csv file."
   ]
  },
  {
   "cell_type": "code",
   "execution_count": null,
   "id": "matched-outreach",
   "metadata": {},
   "outputs": [],
   "source": [
    "titanic_df = titanic_df.sample(frac=1).reset_index(drop=True)\n",
    "\n",
    "titanic_df.head()"
   ]
  },
  {
   "cell_type": "code",
   "execution_count": null,
   "id": "infectious-correction",
   "metadata": {},
   "outputs": [],
   "source": [
    "titanic_df.to_csv('datasets/titanic_processed.csv', index=False)"
   ]
  },
  {
   "cell_type": "code",
   "execution_count": null,
   "id": "laughing-import",
   "metadata": {},
   "outputs": [],
   "source": [
    "!ls datasets"
   ]
  }
 ],
 "metadata": {
  "kernelspec": {
   "display_name": "conda_python3",
   "language": "python",
   "name": "conda_python3"
  },
  "language_info": {
   "codemirror_mode": {
    "name": "ipython",
    "version": 3
   },
   "file_extension": ".py",
   "mimetype": "text/x-python",
   "name": "python",
   "nbconvert_exporter": "python",
   "pygments_lexer": "ipython3",
   "version": "3.6.13"
  }
 },
 "nbformat": 4,
 "nbformat_minor": 5
}