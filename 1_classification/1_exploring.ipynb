{
 "cells": [
  {
   "cell_type": "markdown",
   "id": "numeric-bubble",
   "metadata": {},
   "source": [
    "# Exploring the Titanic dataset\n",
    "\n",
    "We'll start off by taking a look at our data set.\n",
    "\n",
    "The first step in any notebook (or python script) is to import any dependancies. \n",
    "\n",
    "In this notebook we'll be using the pandas library to read our CSV file, hold it as a dataframe within our notebook so that we can easily manipulate the data.\n",
    "\n",
    "A dataframe is a 2-dimensional labeled data structure with columns and rows. Think of it like a spreadsheet to hold our data within the python code."
   ]
  },
  {
   "source": [
    "We import the pandas libray with the `import` keyword, we then set an alias for it by using the `as` keyword. \n",
    "\n",
    "This is not required but it is a convention that is widely used, this allows us to access the pandas library functions \n",
    "\n",
    "using `pd` instead of typing out `pandas` eash time."
   ],
   "cell_type": "markdown",
   "metadata": {}
  },
  {
   "cell_type": "code",
   "execution_count": null,
   "id": "stone-corps",
   "metadata": {},
   "outputs": [],
   "source": [
    "import pandas as pd "
   ]
  },
  {
   "cell_type": "markdown",
   "id": "searching-thirty",
   "metadata": {},
   "source": [
    "### Dataset description\n",
    "\n",
    "Here we have a description of the column headers of the CSV data.\n",
    "\n",
    "1. PassengerId - Passenger unique Id\n",
    "2.  Survival - Survival (0 = No; 1 = Yes).\n",
    "3.  Pclass - Passenger Class (1 = 1st; 2 = 2nd; 3 = 3rd)\n",
    "4.  Name - Name\n",
    "5.  Sex - Sex\n",
    "6.  Age - Age\n",
    "7.  Sibsp - Number of Siblings/Spouses Aboard\n",
    "8.  Parch - Number of Parents/Children Aboard\n",
    "9.  Ticket - Ticket Number\n",
    "10.  Fare - Passenger Fare\n",
    "11. Cabin - Cabin\n",
    "12. Embarked - Port of Embarkation (C = Cherbourg; Q = Queenstown; S = Southampton)"
   ]
  },
  {
   "source": [
    "We use the `.read_csv()` function from the pandas library. This function require 1 argument, the path to a csv file.\n",
    "\n",
    "We declare a variable `titanic_df` that our data will be saved to, we can then reference this variable when we want to perform operations on our data."
   ],
   "cell_type": "markdown",
   "metadata": {}
  },
  {
   "cell_type": "code",
   "execution_count": null,
   "id": "eastern-progress",
   "metadata": {},
   "outputs": [],
   "source": [
    "titanic_df = pd.read_csv('datasets/titanic.csv')"
   ]
  },
  {
   "source": [
    "We next use the `.head()` method to print out the first n rows of the dataframe.\n",
    "\n",
    "We can supply an argument of an integer number to print out that number of rows."
   ],
   "cell_type": "markdown",
   "metadata": {}
  },
  {
   "cell_type": "code",
   "execution_count": null,
   "metadata": {},
   "outputs": [],
   "source": [
    "titanic_df.head()"
   ]
  },
  {
   "source": [
    "Try to show the top 10 rows of the dataset."
   ],
   "cell_type": "markdown",
   "metadata": {}
  },
  {
   "cell_type": "code",
   "execution_count": null,
   "metadata": {},
   "outputs": [],
   "source": [
    "# Write your code here"
   ]
  },
  {
   "source": [
    "We can look at he `shape` attribute of our dataframe to see the number of rows and columns."
   ],
   "cell_type": "markdown",
   "metadata": {}
  },
  {
   "cell_type": "code",
   "execution_count": null,
   "id": "natural-trademark",
   "metadata": {},
   "outputs": [],
   "source": [
    "titanic_df.shape"
   ]
  },
  {
   "cell_type": "markdown",
   "id": "laden-creativity",
   "metadata": {},
   "source": [
    "We have 891 records and 12 columns\n",
    "\n",
    "We can also call the `.count()` function, this will tell us how many non-null values are in each column."
   ]
  },
  {
   "cell_type": "code",
   "execution_count": null,
   "metadata": {},
   "outputs": [],
   "source": [
    "titanic_df.count()"
   ]
  },
  {
   "source": [
    "As we can see there are a few columns with missing data, we will look into how we clean this up in the next notebook."
   ],
   "cell_type": "markdown",
   "metadata": {}
  },
  {
   "cell_type": "code",
   "execution_count": null,
   "metadata": {},
   "outputs": [],
   "source": []
  }
 ],
 "metadata": {
  "kernelspec": {
   "name": "pythonjvsc74a57bd041253a953fe1e23225c53d0328335fbca6ca801c7cd2fca00fbfe2ba13c880e0",
   "display_name": "Python 3.6.10  ('venv': venv)"
  },
  "language_info": {
   "codemirror_mode": {
    "name": "ipython",
    "version": 3
   },
   "file_extension": ".py",
   "mimetype": "text/x-python",
   "name": "python",
   "nbconvert_exporter": "python",
   "pygments_lexer": "ipython3",
   "version": "3.6.10"
  },
  "metadata": {
   "interpreter": {
    "hash": "41253a953fe1e23225c53d0328335fbca6ca801c7cd2fca00fbfe2ba13c880e0"
   }
  }
 },
 "nbformat": 4,
 "nbformat_minor": 5
}