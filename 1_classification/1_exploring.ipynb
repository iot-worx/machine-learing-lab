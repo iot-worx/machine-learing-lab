{
 "cells": [
  {
   "cell_type": "markdown",
   "id": "d001fa92",
   "metadata": {},
   "source": [
    "# Exploring the Titanic dataset\n",
    "\n",
    "We'll start off by taking a look at our data set.\n",
    "\n",
    "The first step in any notebook (or python script) is to import any dependancies. \n",
    "\n",
    "In this notebook we'll be using the pandas library to read our CSV file, hold it as a dataframe within our notebook so that we can easily manipulate the data.\n",
    "\n",
    "A dataframe is a 2-dimensional labeled data structure with columns and rows. Think of it like a spreadsheet to hold our data within the python code."
   ]
  },
  {
   "cell_type": "markdown",
   "id": "70105d82",
   "metadata": {},
   "source": [
    "We import the pandas libray with the `import` keyword, we then set an alias for it by using the `as` keyword. \n",
    "\n",
    "This is not required but it is a convention that is widely used, this allows us to access the pandas library functions \n",
    "\n",
    "using `pd` instead of typing out `pandas` each time."
   ]
  },
  {
   "cell_type": "code",
   "execution_count": null,
   "id": "26d08561",
   "metadata": {},
   "outputs": [],
   "source": [
    "import pandas as pd "
   ]
  },
  {
   "cell_type": "markdown",
   "id": "59b4971f",
   "metadata": {},
   "source": [
    "### Dataset description\n",
    "\n",
    "Here we have a description of the column headers of the CSV data.\n",
    "\n",
    "1. PassengerId - Passenger unique Id\n",
    "2.  Survival - Survival (0 = No; 1 = Yes).\n",
    "3.  Pclass - Passenger Class (1 = 1st; 2 = 2nd; 3 = 3rd)\n",
    "4.  Name - Name\n",
    "5.  Sex - Sex\n",
    "6.  Age - Age\n",
    "7.  Sibsp - Number of Siblings/Spouses Aboard\n",
    "8.  Parch - Number of Parents/Children Aboard\n",
    "9.  Ticket - Ticket Number\n",
    "10.  Fare - Passenger Fare\n",
    "11. Cabin - Cabin\n",
    "12. Embarked - Port of Embarkation (C = Cherbourg; Q = Queenstown; S = Southampton)"
   ]
  },
  {
   "cell_type": "markdown",
   "id": "a1ea025b",
   "metadata": {},
   "source": [
    "We use the `.read_csv()` function from the pandas library. This function require 1 argument, the path to a csv file.\n",
    "\n",
    "We declare a variable `titanic_df` that our data will be saved to, we can then reference this variable when we want to perform operations on our data."
   ]
  },
  {
   "cell_type": "code",
   "execution_count": null,
   "id": "418d0187",
   "metadata": {},
   "outputs": [],
   "source": [
    "titanic_df = pd.read_csv('datasets/titanic.csv')"
   ]
  },
  {
   "cell_type": "markdown",
   "id": "c06bc4f0",
   "metadata": {},
   "source": [
    "We next use the `.head()` method to print out the first n rows of the dataframe.\n",
    "\n",
    "We can supply an argument of an integer number to print out that number of rows."
   ]
  },
  {
   "cell_type": "code",
   "execution_count": null,
   "id": "87529c09",
   "metadata": {},
   "outputs": [],
   "source": [
    "titanic_df.head(10)"
   ]
  },
  {
   "cell_type": "markdown",
   "id": "6a185a1b",
   "metadata": {},
   "source": [
    "Try to show the top 10 rows of the dataset."
   ]
  },
  {
   "cell_type": "code",
   "execution_count": null,
   "id": "1c887ca1",
   "metadata": {},
   "outputs": [],
   "source": [
    "# Write your code here"
   ]
  },
  {
   "cell_type": "markdown",
   "id": "a117975c",
   "metadata": {},
   "source": [
    "We can look at the `shape` attribute of our dataframe to see the number of rows and columns."
   ]
  },
  {
   "cell_type": "code",
   "execution_count": null,
   "id": "548a7d91",
   "metadata": {},
   "outputs": [],
   "source": [
    "titanic_df.shape"
   ]
  },
  {
   "cell_type": "markdown",
   "id": "ba8e85b1",
   "metadata": {},
   "source": [
    "We have 891 records and 12 columns\n",
    "\n",
    "We can also call the `.count()` function, this will tell us how many non-null values are in each column."
   ]
  },
  {
   "cell_type": "code",
   "execution_count": null,
   "id": "d47bbb15",
   "metadata": {},
   "outputs": [],
   "source": [
    "titanic_df.count()"
   ]
  },
  {
   "cell_type": "markdown",
   "id": "6f024c85",
   "metadata": {},
   "source": [
    "As we can see there are a few columns with missing data, we will look into how we clean this up in the next notebook."
   ]
  },
  {
   "cell_type": "markdown",
   "id": "c5c54d3c",
   "metadata": {},
   "source": [
    "### Get Some Statistics"
   ]
  },
  {
   "cell_type": "code",
   "execution_count": null,
   "id": "436a61b5",
   "metadata": {},
   "outputs": [],
   "source": [
    "To view some basic statistical details like percentile, mean, std etc. of the numeric columns present in the dataframe,We have used\n",
    ".describe() function of pandas library"
   ]
  },
  {
   "cell_type": "code",
   "execution_count": null,
   "id": "22395052",
   "metadata": {},
   "outputs": [],
   "source": [
    "titanic_df.describe()"
   ]
  },
  {
   "cell_type": "markdown",
   "id": "4c36dc8d",
   "metadata": {},
   "source": [
    "### Get the count of number of survivors"
   ]
  },
  {
   "cell_type": "markdown",
   "id": "ec844aeb",
   "metadata": {},
   "source": [
    "As motive of this study is that, given a new passenger detail we can predict if a passenger will survive or not and we have a binary variable 'survived' which is providing info for survival. Let's see how many of the passenger available in the dataset actually survived on the titanic.\n",
    "\n",
    ".value_counts() function returns object containing counts of unique values, excluding NA values by default."
   ]
  },
  {
   "cell_type": "code",
   "execution_count": null,
   "id": "11c1d77f",
   "metadata": {},
   "outputs": [],
   "source": [
    "titanic_df['Survived'].value_counts()"
   ]
  },
  {
   "cell_type": "markdown",
   "id": "4d23e9b4",
   "metadata": {},
   "source": [
    "### Visualize the count of survivors"
   ]
  },
  {
   "cell_type": "markdown",
   "id": "1ed4a63c",
   "metadata": {},
   "source": [
    "For visualizing the survivors, we have used Seaborn library.It is a Python data visualization library based on matplotlib. It provides a high-level interface for drawing attractive and informative statistical graphics.\n",
    "\n",
    "As we did import pd in the start, in the same way we can import seaborn using 'import' keyword."
   ]
  },
  {
   "cell_type": "code",
   "execution_count": null,
   "id": "089271d2",
   "metadata": {},
   "outputs": [],
   "source": [
    "import seaborn as sns"
   ]
  },
  {
   "cell_type": "code",
   "execution_count": null,
   "id": "bed5e95b",
   "metadata": {},
   "outputs": [],
   "source": [
    "sns.countplot(titanic_df['Survived'])"
   ]
  },
  {
   "cell_type": "markdown",
   "id": "566ad0fc",
   "metadata": {},
   "source": [
    "Similiary using above code we can do countplot for variable ('Parch','Embarked',Pclass,'Sex',Sibsp)."
   ]
  }
 ],
 "metadata": {
  "kernelspec": {
   "display_name": "conda_amazonei_mxnet_p27",
   "language": "python",
   "name": "conda_amazonei_mxnet_p27"
  },
  "language_info": {
   "codemirror_mode": {
    "name": "ipython",
    "version": 2
   },
   "file_extension": ".py",
   "mimetype": "text/x-python",
   "name": "python",
   "nbconvert_exporter": "python",
   "pygments_lexer": "ipython2",
   "version": "2.7.16"
  },
  "metadata": {
   "interpreter": {
    "hash": "41253a953fe1e23225c53d0328335fbca6ca801c7cd2fca00fbfe2ba13c880e0"
   }
  }
 },
 "nbformat": 4,
 "nbformat_minor": 5
}
