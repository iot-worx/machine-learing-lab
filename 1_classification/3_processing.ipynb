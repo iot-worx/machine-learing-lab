{
 "cells": [
  {
   "cell_type": "markdown",
   "id": "numeric-bubble",
   "metadata": {},
   "source": [
    "# Processing the Titanic dataset\n",
    "\n",
    "\n",
    "Our data set contains categorical or discrete values, we need to convert these values to numerical values for machine learning models.\n",
    "\n",
    "Scikit-learn provides us a very useful library called 'Preprocessing' to help us to process our data."
   ]
  },
  {
   "source": [
    "We start by importing the libraries we will use and we'll import the cleaned dataset we created in the previous notebook."
   ],
   "cell_type": "markdown",
   "metadata": {}
  },
  {
   "cell_type": "code",
   "execution_count": null,
   "id": "stone-corps",
   "metadata": {},
   "outputs": [],
   "source": [
    "import sklearn\n",
    "\n",
    "import pandas as pd"
   ]
  },
  {
   "cell_type": "code",
   "execution_count": null,
   "id": "eastern-progress",
   "metadata": {},
   "outputs": [],
   "source": [
    "titanic_df = pd.read_csv('datasets/titanic_cleaned.csv')\n",
    "titanic_df.head(10)"
   ]
  },
  {
   "cell_type": "markdown",
   "id": "copyrighted-charm",
   "metadata": {},
   "source": [
    "Our data set contains categorical or discrete values, we need to convert these values to numerical values for machine learning models.\n",
    "\n",
    "Scikit-learn provides us a very useful library called 'Preprocessing' to help us to process our data.\n",
    "\n",
    "First we'll convert categorical values to ordered integer values. We can use the `LabelEncoder()` function for this. Normally the label encoder is used for ordinal data, that is where the order matters, e.g., 'small', 'medium' & 'large'. \n",
    "\n",
    "However we can still use this when we have data of a binary nature, in this case the 'Sex' column only contains two values, i.e. Female and Male.\n",
    "\n",
    "In our case this will give us a value of '0' for female and a value of '1' for male.\n"
   ]
  },
  {
   "cell_type": "code",
   "execution_count": null,
   "id": "blessed-douglas",
   "metadata": {},
   "outputs": [],
   "source": [
    "from sklearn import preprocessing\n",
    "\n",
    "label_encoding = preprocessing.LabelEncoder()\n",
    "titanic_df['Sex'] = label_encoding.fit_transform(titanic_df['Sex'].astype(str))\n",
    "\n",
    "titanic_df.head()"
   ]
  },
  {
   "source": [
    "We can look at the numerical value that the label encoder assigned to each value by looking at the `.classes_` attribute. \n",
    "\n",
    "This returns an array of each of the values and the index of that value in the array corresponds to the value now used in our dataframe."
   ],
   "cell_type": "markdown",
   "metadata": {}
  },
  {
   "cell_type": "code",
   "execution_count": null,
   "id": "associate-developer",
   "metadata": {},
   "outputs": [],
   "source": [
    "label_encoding.classes_"
   ]
  },
  {
   "cell_type": "markdown",
   "id": "champion-issue",
   "metadata": {},
   "source": [
    "Categories with no intrinsic ordering can be converted to numeric values using a technique calledone-hot encoding.\n",
    "\n",
    "Scikit-learn has abuilt in function called `.get_dummies()` that will convert a column to it's one-hot encoded form."
   ]
  },
  {
   "cell_type": "code",
   "execution_count": null,
   "id": "enormous-sleeping",
   "metadata": {},
   "outputs": [],
   "source": [
    "titanic_df = pd.get_dummies(titanic_df, columns=['Embarked'])\n",
    "\n",
    "titanic_df.head()"
   ]
  },
  {
   "cell_type": "markdown",
   "id": "breathing-pressing",
   "metadata": {},
   "source": [
    "Each value in the 'Embarked' column now has it's own column. This is known as it's one-hot representation. (The 'Embarked' column isn't neccesary for our model but I included it to demonstrate the concept of one-hot encoding)\n",
    "\n",
    "We now have our data in a form that is ready to train an ML model, we are going to shuffle the data set and save it as a csv file."
   ]
  },
  {
   "cell_type": "code",
   "execution_count": null,
   "id": "matched-outreach",
   "metadata": {},
   "outputs": [],
   "source": [
    "titanic_df = titanic_df.sample(frac=1).reset_index(drop=True)\n",
    "\n",
    "titanic_df.head()"
   ]
  },
  {
   "cell_type": "code",
   "execution_count": null,
   "id": "infectious-correction",
   "metadata": {},
   "outputs": [],
   "source": [
    "titanic_df.to_csv('datasets/titanic_processed.csv', index=False)"
   ]
  }
 ],
 "metadata": {
  "kernelspec": {
   "name": "python3613jvsc74a57bd05fe95147f33012273cbe36a4af9b64c2d7c6194ae48cc8f141788b2e9b581426",
   "display_name": "Python 3.6.13 64-bit ('.venv': venv)"
  },
  "language_info": {
   "codemirror_mode": {
    "name": "ipython",
    "version": 3
   },
   "file_extension": ".py",
   "mimetype": "text/x-python",
   "name": "python",
   "nbconvert_exporter": "python",
   "pygments_lexer": "ipython3",
   "version": "3.6.13"
  }
 },
 "nbformat": 4,
 "nbformat_minor": 5
}